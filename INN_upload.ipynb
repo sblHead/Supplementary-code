{
  "nbformat": 4,
  "nbformat_minor": 0,
  "metadata": {
    "colab": {
      "name": "INN_upload",
      "provenance": [],
      "collapsed_sections": [],
      "authorship_tag": "ABX9TyPr45ylBUmxtU8PnoA/kqMC",
      "include_colab_link": true
    },
    "kernelspec": {
      "name": "python3",
      "display_name": "Python 3"
    },
    "language_info": {
      "name": "python"
    },
    "accelerator": "GPU"
  },
  "cells": [
    {
      "cell_type": "markdown",
      "metadata": {
        "id": "view-in-github",
        "colab_type": "text"
      },
      "source": [
        "<a href=\"https://colab.research.google.com/github/sblHead/Supplementary-code/blob/main/INN_upload.ipynb\" target=\"_parent\"><img src=\"https://colab.research.google.com/assets/colab-badge.svg\" alt=\"Open In Colab\"/></a>"
      ]
    },
    {
      "cell_type": "code",
      "execution_count": null,
      "metadata": {
        "colab": {
          "base_uri": "https://localhost:8080/"
        },
        "id": "mT0vX5teaRG9",
        "outputId": "471cb6d1-4bcb-4a45-e106-1ca626aab37c"
      },
      "outputs": [
        {
          "output_type": "stream",
          "name": "stdout",
          "text": [
            "Mounted at /content/drive/\n"
          ]
        }
      ],
      "source": [
        "import tensorflow as tf\n",
        "from tensorflow import keras\n",
        "import numpy as np\n",
        "from google.colab import drive\n",
        "import csv\n",
        "import sklearn\n",
        "\n",
        "\n",
        "drive.mount('/content/drive/')    # if using google drive"
      ]
    },
    {
      "cell_type": "code",
      "source": [
        "input_shape = 81\n",
        "Xdata = []\n",
        "\n",
        "with open('', newline = '\\n') as csvfile:     # read in material data\n",
        "  data = csv.reader(csvfile, delimiter = ',')\n",
        "  for row in data:\n",
        "    row = np.array(row)\n",
        "    row =  row.astype(np.float)\n",
        "    Xdata.append(row)\n",
        "\n",
        "Xdata = np.delete(Xdata,slice(1,len(Xdata),2),axis = 0)\n",
        "\n",
        "Ydata = []\n",
        "with open('', newline = '\\n') as csvfile:   # read in spectral response data\n",
        "  data = csv.reader(csvfile, delimiter = ',')\n",
        "  for row in data:\n",
        "    row = np.array(row)\n",
        "    row =  row.astype(np.float)\n",
        "    Ydata.append(row)\n",
        "\n",
        "Ydata = np.transpose(Ydata)\n",
        "Ydata = np.delete(Ydata,slice(1,(len(Ydata)),2),axis = 0)\n",
        "\n",
        "\n",
        "print(np.shape(Xdata))   # ensure that each row is a new sample, i.e. shape = (num samples, len sample)\n",
        "print(np.shape(Ydata))\n"
      ],
      "metadata": {
        "id": "nNLbU2ClaSOC"
      },
      "execution_count": null,
      "outputs": []
    },
    {
      "cell_type": "code",
      "source": [
        "SNN_model1 = keras.models.load_model('')      # load SNN model from saved location\n",
        "SNN_model = keras.models.clone_model(SNN_model1)\n",
        "SNN_model.set_weights(SNN_model1.get_weights())\n",
        "for layer in SNN_model.layers:\n",
        "  layer.trainable = False\n",
        "\n",
        "SNN_model.summary()"
      ],
      "metadata": {
        "id": "WQSoVz6rgIH3"
      },
      "execution_count": null,
      "outputs": []
    },
    {
      "cell_type": "code",
      "source": [
        "epoch_num = 40\n",
        "\n",
        "\n",
        "XTrain = []\n",
        "YTrain = []\n",
        "XTest = []\n",
        "YTest = []\n",
        "XNew = []\n",
        "YNew = []\n",
        "\n",
        "XShuff, YShuff = sklearn.utils.shuffle(Ydata, Yspectrum)\n",
        "\n",
        "XTrain = XShuff[:18000]\n",
        "YTrain = YShuff[:18000]\n",
        "XTest = XShuff[18000:21000]\n",
        "YTest = YShuff[18000:21000]\n",
        "XNew = XShuff[21000:]\n",
        "YNew = YShuff[21000:]\n",
        "\n",
        "XTrain = np.array(XTrain)\n",
        "YTrain = np.array(YTrain)\n",
        "XTest = np.array(XTest)\n",
        "YTest = np.array(YTest)\n"
      ],
      "metadata": {
        "id": "5EqMv8dH8oUi"
      },
      "execution_count": null,
      "outputs": []
    },
    {
      "cell_type": "code",
      "source": [
        "\n",
        "input_tensor = keras.Input(shape = (input_shape))\n",
        "input_tensor= keras.layers.BatchNormalization(axis=-1 , center=True , scale=True)(input_tensor)\n",
        "\n",
        "x = keras.layers.Dense(1000, activation = None)(input_tensor)  #input to layer 1\n",
        "x = keras.layers.LeakyReLU(alpha = 0.2)(x)\n",
        "\n",
        "\n",
        "x = keras.layers.Dense(1000, activation = None)(x)    #layer 2\n",
        "x = keras.layers.LeakyReLU(alpha = 0.2)(x)\n",
        "\n",
        "\n",
        "x = keras.layers.Dense(1000, activation = None)(x)    #layer 3\n",
        "x = keras.layers.LeakyReLU(alpha = 0.2)(x)\n",
        "x = keras.layers.Dropout(0.02)(x)\n",
        "\n",
        "x = keras.layers.Dense(500, activation = None)(x)   #layer 4\n",
        "x = keras.layers.LeakyReLU(alpha = 0.2)(x)\n",
        "x = keras.layers.Dropout(0.01)(x)\n",
        "\n",
        "x = keras.layers.Dense(500, activation = None)(x)   #layer 5\n",
        "x = keras.layers.LeakyReLU(alpha = 0.2)(x)\n",
        "\n",
        "x = keras.layers.Dense(500, activation = None)(x)   #layer 6\n",
        "x = keras.layers.LeakyReLU(alpha = 0.2)(x)\n",
        "output_tensor = keras.layers.Dense(6, activation = 'sigmoid')(x)   #output\n",
        "\n",
        "inverse_model = keras.models.Model(input_tensor, output_tensor)\n",
        "\n",
        "tandem_model_input = keras.Input(shape=(input_shape, ))\n",
        "intermediate = inverse_model(tandem_model_input)\n",
        "tandem_output = SNN_model(intermediate)\n",
        "tandem_model = keras.models.Model(tandem_model_input, tandem_output)\n",
        "\n",
        "\n",
        "tandem_model.compile(loss = keras.losses.MeanSquaredError(),\n",
        "              optimizer = 'Adam',\n",
        "              metrics = ['mean_absolute_error'])\n",
        "\n",
        "\n",
        "callback_list = [keras.callbacks.ReduceLROnPlateau(monitor=\"val_loss\", factor=0.1, patience=4, min_lr=1e-7), \n",
        "                 keras.callbacks.EarlyStopping(monitor=\"val_loss\", patience=6, restore_best_weights=True)]\n",
        "\n",
        "\n",
        "history = tandem_model.fit(XTrain, YTrain, epochs = epoch_num, callbacks = callback_list, validation_data = (XTest,  YTest))\n",
        "print(tandem_model.evaluate(YNew, YNew, verbose = 0))\n",
        "\n",
        "#tandem_model.summary()"
      ],
      "metadata": {
        "id": "k-EmgOMAaenH"
      },
      "execution_count": null,
      "outputs": []
    },
    {
      "cell_type": "code",
      "source": [
        "import matplotlib.pyplot as plt"
      ],
      "metadata": {
        "id": "IhnLrjSSahrd"
      },
      "execution_count": null,
      "outputs": []
    },
    {
      "cell_type": "code",
      "source": [
        "loss_train = history.history['mean_absolute_error']     # learning curve plot (validation and training curves)\n",
        "loss_val = history.history['val_mean_absolute_error']\n",
        "epochs = range(1,22)\n",
        "plt.figure(figsize = (3.5,3.5),dpi=1200)\n",
        "plt.plot(epochs, loss_train[1:], 'g', label='Training MSE')\n",
        "plt.plot(epochs, loss_val[1:], 'b', label='Validation MSE')\n",
        "plt.xticks(fontsize=16)\n",
        "plt.yticks(fontsize=16)\n",
        "plt.xlabel('Epochs', fontsize=16)\n",
        "plt.ylabel('Mean Absolute Error',fontsize=16)\n",
        "plt.show()"
      ],
      "metadata": {
        "id": "BX9f0zeRakU6"
      },
      "execution_count": null,
      "outputs": []
    },
    {
      "cell_type": "code",
      "source": [
        "num = ##                       # plots target vs predicted spectra\n",
        "Y_hat = tandem_model.predict(Y_arb[num].reshape(-1,81))\n",
        "Y_acc1 = Y_arb[num].reshape(81, -1)\n",
        "Y_hat = np.transpose(Y_hat)\n",
        "spectrum_wav = np.arange(380, 781, 5)\n",
        "# plt.figure(figsize = (3.5,3.5),dpi=1200)\n",
        "plt.plot(spectrum_wav, Y_hat, 'b')\n",
        "plt.plot(spectrum_wav, Y_acc1, 'r')\n",
        "plt.ylim([0, 1])\n",
        "plt.xticks(fontsize=16)\n",
        "plt.yticks(fontsize=16)\n",
        "plt.xlabel('Wavelength, nm', fontsize=16)\n",
        "plt.ylabel('Reflectance coefficient',fontsize=16)\n",
        "plt.show()"
      ],
      "metadata": {
        "id": "kxnDjIzEamWe"
      },
      "execution_count": null,
      "outputs": []
    }
  ]
}